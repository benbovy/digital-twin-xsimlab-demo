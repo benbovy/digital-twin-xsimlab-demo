{
 "cells": [
  {
   "cell_type": "markdown",
   "metadata": {},
   "source": [
    "# Demo\n",
    "\n",
    "Xarray-simlab is deeply integrated with other tools (Python, Jupyter + widgets, Xarray, Dask, Zarr, etc.) that together provide an interactive computing environment suited for the development of \"digital twins\". This demo notebook shows how these tools may address important needs such as:\n",
    "\n",
    "- flexible, modular design\n",
    "- interactivity\n",
    "- scalability and portability (laptop, big workstation, HPC, cloud)\n",
    "- high-level, user-friendly interface\n",
    "- data/model integration"
   ]
  },
  {
   "cell_type": "code",
   "execution_count": null,
   "metadata": {},
   "outputs": [],
   "source": [
    "import leafmap\n",
    "import cmcrameri\n",
    "import ipyfastscape\n",
    "import numpy as np\n",
    "import xarray as xr\n",
    "import xsimlab as xs\n",
    "import matplotlib.pyplot as plt\n",
    "\n",
    "import utils"
   ]
  },
  {
   "cell_type": "code",
   "execution_count": null,
   "metadata": {},
   "outputs": [],
   "source": [
    "from dask.distributed import LocalCluster, Client"
   ]
  },
  {
   "cell_type": "code",
   "execution_count": null,
   "metadata": {},
   "outputs": [],
   "source": [
    "cluster = LocalCluster(threads_per_worker=1)"
   ]
  },
  {
   "cell_type": "code",
   "execution_count": null,
   "metadata": {},
   "outputs": [],
   "source": [
    "client = Client(cluster)\n",
    "client"
   ]
  },
  {
   "cell_type": "markdown",
   "metadata": {},
   "source": [
    "## Xarray-simlab: Interactive Modelling\n",
    "\n",
    "\n",
    "\n",
    "### Build and inspect custom \"digital-twins\" dynamically\n",
    "\n",
    "Using [fastscape](https://fastscape.org) + extensions as an example..."
   ]
  },
  {
   "cell_type": "code",
   "execution_count": null,
   "metadata": {},
   "outputs": [],
   "source": [
    "from fastscape.models import basic_model"
   ]
  },
  {
   "cell_type": "code",
   "execution_count": null,
   "metadata": {},
   "outputs": [],
   "source": [
    "basic_model"
   ]
  },
  {
   "cell_type": "code",
   "execution_count": null,
   "metadata": {},
   "outputs": [],
   "source": [
    "basic_model.spl"
   ]
  },
  {
   "cell_type": "code",
   "execution_count": null,
   "metadata": {},
   "outputs": [],
   "source": [
    "basic_model.visualize(show_inputs=True)"
   ]
  },
  {
   "cell_type": "code",
   "execution_count": null,
   "metadata": {},
   "outputs": [],
   "source": [
    "from orographic_precipitation.fastscape_ext import (\n",
    "    OrographicPrecipitation,\n",
    "    OrographicDrainageDischarge\n",
    ")\n",
    "\n",
    "\n",
    "model = basic_model.update_processes(\n",
    "    {\"rain\": OrographicPrecipitation, \"drainage\": OrographicDrainageDischarge}\n",
    ")\n",
    "\n",
    "model"
   ]
  },
  {
   "cell_type": "code",
   "execution_count": null,
   "metadata": {},
   "outputs": [],
   "source": [
    "from paraspec.fastscape_ext import (\n",
    "    ParapatricSpeciation,\n",
    "    ParapatricEnvironmentElevation\n",
    ")\n",
    "\n",
    "\n",
    "model = model.update_processes(\n",
    "    {\"life\": ParapatricSpeciation, \"life_env\": ParapatricEnvironmentElevation}\n",
    ")\n",
    "\n",
    "model"
   ]
  },
  {
   "cell_type": "code",
   "execution_count": null,
   "metadata": {},
   "outputs": [],
   "source": [
    "model.visualize(show_inputs=True)"
   ]
  },
  {
   "cell_type": "markdown",
   "metadata": {},
   "source": [
    "### Explore models "
   ]
  },
  {
   "cell_type": "code",
   "execution_count": null,
   "metadata": {},
   "outputs": [],
   "source": [
    "%load_ext xsimlab.ipython"
   ]
  },
  {
   "cell_type": "code",
   "execution_count": null,
   "metadata": {},
   "outputs": [],
   "source": [
    "# %create_setup basic_model -v -d\n",
    "import xsimlab as xs\n",
    "\n",
    "ds_in = xs.create_setup(\n",
    "    model=basic_model,\n",
    "    clocks={\n",
    "        'time': np.arange(0, 1e6 + 1e4, 1e4)\n",
    "    },\n",
    "    input_vars={\n",
    "        # nb. of grid nodes in (y, x)\n",
    "        'grid__shape': [201, 201],\n",
    "        # total grid length in (y, x)\n",
    "        'grid__length': [5e4, 5e4],\n",
    "        # node status at borders\n",
    "        'boundary__status': 'fixed_value',\n",
    "        # uplift rate\n",
    "        'uplift__rate': ('uplift__rate', np.linspace(1e-3, 5e-3, 4)),\n",
    "        # bedrock channel incision coefficient\n",
    "        'spl__k_coef': ('spl__k_coef', np.linspace(1e-5, 5e-5, 4)),\n",
    "        # drainage area exponent\n",
    "        'spl__area_exp': 0.4,\n",
    "        # slope exponent\n",
    "        'spl__slope_exp': 1,\n",
    "        # diffusivity (transport coefficient)\n",
    "        'diffusion__diffusivity': 1e-1,\n",
    "        # random seed\n",
    "        'init_topography__seed': 1234,\n",
    "    },\n",
    "    output_vars={\n",
    "        'topography__elevation': 'time',\n",
    "        'erosion__rate': 'time',\n",
    "        'drainage__area': 'time'\n",
    "    }\n",
    ")\n"
   ]
  },
  {
   "cell_type": "code",
   "execution_count": null,
   "metadata": {},
   "outputs": [],
   "source": [
    "ds_in"
   ]
  },
  {
   "cell_type": "code",
   "execution_count": null,
   "metadata": {},
   "outputs": [],
   "source": [
    "ds_out = (\n",
    "    ds_in\n",
    "    .stack(batch=['uplift__rate', 'spl__k_coef'])\n",
    "    .xsimlab.run(\n",
    "        model=basic_model, batch_dim='batch', scheduler=client, parallel=True, store=\"run1.zarr\"\n",
    "    )\n",
    "    .unstack('batch')\n",
    ")"
   ]
  },
  {
   "cell_type": "code",
   "execution_count": null,
   "metadata": {},
   "outputs": [],
   "source": [
    "ds_out"
   ]
  },
  {
   "cell_type": "code",
   "execution_count": null,
   "metadata": {},
   "outputs": [],
   "source": [
    "(\n",
    "    ds_out\n",
    "     # take topographic elevation\n",
    "     .topography__elevation\n",
    "     # take last time step\n",
    "     .isel(time=-1)\n",
    "     # extract cross-section\n",
    "     .sel(x=2.5e4)\n",
    "     # facetplot for all parameter values\n",
    "     .plot(row='uplift__rate', col='spl__k_coef')\n",
    ");"
   ]
  },
  {
   "cell_type": "code",
   "execution_count": null,
   "metadata": {},
   "outputs": [],
   "source": [
    "app = ipyfastscape.TopoViz3d(ds_out, time_dim=\"time\")\n",
    "app.show()"
   ]
  },
  {
   "cell_type": "code",
   "execution_count": null,
   "metadata": {},
   "outputs": [],
   "source": [
    "app.widget.close()"
   ]
  },
  {
   "cell_type": "markdown",
   "metadata": {},
   "source": [
    "## Include Data / Observations\n",
    "\n",
    "Goals: external forcing, data assimilation, comparison, optimization/inference, etc.\n",
    "\n",
    "Let's use interactive tools!"
   ]
  },
  {
   "cell_type": "code",
   "execution_count": null,
   "metadata": {},
   "outputs": [],
   "source": [
    "m = leafmap.Map(\n",
    "    google_map=\"TERRAIN\",\n",
    "    center=[47.04766864046083, 9.4207763671875],\n",
    "    zoom=7\n",
    ")\n",
    "\n",
    "m"
   ]
  },
  {
   "cell_type": "markdown",
   "metadata": {},
   "source": [
    "### Easy (lazy) access to large (TB) datasets\n",
    "\n",
    "More and more data (and metadata) available through APIs...\n",
    "\n",
    "- [SpatioTemporal Asset Catalogs](https://stacspec.org/)\n",
    "  - Google Earth engine\n",
    "  - Microsoft Planetary Computer\n",
    "  - [OpenTopography](https://opentopography.org/)\n",
    "  - [Swisstopo](https://www.geo.admin.ch/en/home.detail.news.html/geo-internet/news2021/news20210301.html)\n",
    "  - etc.\n",
    "- Other APIs\n",
    "\n",
    "... along with high-level, easy-to-use tools integrated with Xarray (ongoing development effort by a large community)"
   ]
  },
  {
   "cell_type": "markdown",
   "metadata": {},
   "source": [
    "An example (satellite imagery):"
   ]
  },
  {
   "cell_type": "code",
   "execution_count": null,
   "metadata": {},
   "outputs": [],
   "source": [
    "import satsearch\n",
    "import stackstac\n",
    "\n",
    "items = satsearch.Search(\n",
    "    url=\"https://earth-search.aws.element84.com/v0\",\n",
    "    intersects=m.draw_features[-1]['geometry'],\n",
    "    collections=[\"sentinel-s2-l2a-cogs\"],\n",
    "    datetime=\"2020-04-01/2020-05-01\"\n",
    ").items()\n",
    "\n",
    "data = stackstac.stack(items, epsg=32631)\n",
    "\n",
    "data"
   ]
  },
  {
   "cell_type": "code",
   "execution_count": null,
   "metadata": {},
   "outputs": [],
   "source": [
    "subset = (data\n",
    " .sel(band=[\"B01\"])\n",
    " .isel(x=slice(0, 3000), y=slice(0, 3000))\n",
    " .mean(\"time\")\n",
    " .squeeze()\n",
    ")\n",
    "\n",
    "subset"
   ]
  },
  {
   "cell_type": "code",
   "execution_count": null,
   "metadata": {},
   "outputs": [],
   "source": [
    "fig, ax = plt.subplots(figsize=(10, 10))\n",
    "\n",
    "subset.plot(ax=ax)\n",
    "ax.set_aspect('equal');"
   ]
  },
  {
   "cell_type": "markdown",
   "metadata": {},
   "source": [
    "### Example: SRTM data\n",
    "\n",
    "Not yet using STAC (I haven't found any public API)"
   ]
  },
  {
   "cell_type": "code",
   "execution_count": null,
   "metadata": {},
   "outputs": [],
   "source": [
    "m"
   ]
  },
  {
   "cell_type": "code",
   "execution_count": null,
   "metadata": {},
   "outputs": [],
   "source": [
    "srtm, rect = utils.get_srtm_data(m)"
   ]
  },
  {
   "cell_type": "code",
   "execution_count": null,
   "metadata": {},
   "outputs": [],
   "source": [
    "m.add_layer(rect)"
   ]
  },
  {
   "cell_type": "code",
   "execution_count": null,
   "metadata": {},
   "outputs": [],
   "source": [
    "srtm"
   ]
  },
  {
   "cell_type": "code",
   "execution_count": null,
   "metadata": {},
   "outputs": [],
   "source": [
    "fig, ax = plt.subplots(figsize=(10, 10))\n",
    "srtm.plot(ax=ax)\n",
    "ax.set_aspect('equal');"
   ]
  },
  {
   "cell_type": "code",
   "execution_count": null,
   "metadata": {},
   "outputs": [],
   "source": [
    "in_dem = (\n",
    "    srtm\n",
    "    .isel(x=slice(100, -100), y=slice(100, -100))\n",
    "    .coarsen(x=6, y=6, boundary='trim')\n",
    "    .mean()\n",
    "    .astype('d')\n",
    ")"
   ]
  },
  {
   "cell_type": "code",
   "execution_count": null,
   "metadata": {},
   "outputs": [],
   "source": [
    "in_dem"
   ]
  },
  {
   "cell_type": "code",
   "execution_count": null,
   "metadata": {},
   "outputs": [],
   "source": [
    "fig, ax = plt.subplots(figsize=(10, 10))\n",
    "in_dem.plot(ax=ax)\n",
    "ax.set_aspect('equal');"
   ]
  },
  {
   "cell_type": "code",
   "execution_count": null,
   "metadata": {},
   "outputs": [],
   "source": [
    "from fastscape.processes import SurfaceTopography\n",
    "\n",
    "@xs.process\n",
    "class InitDEM:\n",
    "    \"\"\"Initialize Fastscape model with a given elevation field.\"\"\"\n",
    "    dem = xs.variable(dims=('y', 'x'))\n",
    "    elevation = xs.foreign(SurfaceTopography, 'elevation', intent='out')\n",
    "    \n",
    "    def initialize(self):\n",
    "        self.elevation = self.dem\n",
    "        \n",
    "\n",
    "model = basic_model.update_processes({'init_topography': InitDEM})"
   ]
  },
  {
   "cell_type": "code",
   "execution_count": null,
   "metadata": {},
   "outputs": [],
   "source": [
    "ds_out = (\n",
    "    ds_in\n",
    "    .xsimlab.update_vars(\n",
    "        model=model,\n",
    "        input_vars={\n",
    "            'init_topography__dem': in_dem,\n",
    "            'grid__shape': [in_dem.sizes['y'], in_dem.sizes['x']],\n",
    "            'grid__length': [in_dem.y.max() - in_dem.y.min(), in_dem.x.max() - in_dem.x.min()],\n",
    "        }\n",
    "    )\n",
    "    .stack(batch=['uplift__rate', 'spl__k_coef'])\n",
    "    .xsimlab.run(\n",
    "        model=model, batch_dim=\"batch\", parallel=True, scheduler=client, store='run2.zarr'\n",
    "    )\n",
    "    .unstack('batch')\n",
    "    .assign_coords(x=in_dem.x, y=in_dem.y)\n",
    ")"
   ]
  },
  {
   "cell_type": "code",
   "execution_count": null,
   "metadata": {},
   "outputs": [],
   "source": [
    "ds_out"
   ]
  },
  {
   "cell_type": "code",
   "execution_count": null,
   "metadata": {},
   "outputs": [],
   "source": [
    "(\n",
    "    ds_out\n",
    "     # take topographic elevation\n",
    "     .topography__elevation\n",
    "     # take last time step\n",
    "     .isel(time=-1)\n",
    "     # facetplot for all parameter values\n",
    "     .plot(row='uplift__rate', col='spl__k_coef')\n",
    ");"
   ]
  },
  {
   "cell_type": "markdown",
   "metadata": {},
   "source": [
    "### Example 2: High-resolution elevation data\n",
    "\n",
    "Swiss DEM (STAC API)"
   ]
  },
  {
   "cell_type": "code",
   "execution_count": null,
   "metadata": {},
   "outputs": [],
   "source": [
    "m"
   ]
  },
  {
   "cell_type": "code",
   "execution_count": null,
   "metadata": {},
   "outputs": [],
   "source": [
    "items, da = utils.get_swiss_elevation(m)"
   ]
  },
  {
   "cell_type": "code",
   "execution_count": null,
   "metadata": {},
   "outputs": [],
   "source": [
    "m.add_geojson(items.geojson(), layer_name=da.name)"
   ]
  },
  {
   "cell_type": "code",
   "execution_count": null,
   "metadata": {},
   "outputs": [],
   "source": [
    "da"
   ]
  },
  {
   "cell_type": "code",
   "execution_count": null,
   "metadata": {},
   "outputs": [],
   "source": [
    "da.compute().plot(figsize=(8, 7));"
   ]
  },
  {
   "cell_type": "markdown",
   "metadata": {},
   "source": [
    "### Other data sources\n",
    "\n",
    "- [RockHound](https://www.fatiando.org/rockhound/latest/index.html): Geophysical datasets"
   ]
  },
  {
   "cell_type": "code",
   "execution_count": null,
   "metadata": {},
   "outputs": [],
   "source": [
    "m"
   ]
  },
  {
   "cell_type": "code",
   "execution_count": null,
   "metadata": {},
   "outputs": [],
   "source": [
    "import rockhound\n",
    "\n",
    "etopo1 = rockhound.etopo1.fetch_etopo1(\"bedrock\").rio.write_crs(\"epsg:4326\")\n",
    "\n",
    "roi = m.draw_features[-1]['geometry']['coordinates'][0]\n",
    "lon, lat = list(zip(*roi))\n",
    "\n",
    "dem = etopo1.sel(longitude=slice(min(lon), max(lon)), latitude=slice(min(lat), max(lat)))\n",
    "dem_utm = dem.rio.reproject(dem.rio.estimate_utm_crs())\n",
    "\n",
    "dem_utm"
   ]
  },
  {
   "cell_type": "code",
   "execution_count": null,
   "metadata": {},
   "outputs": [],
   "source": [
    "fig, ax = plt.subplots(figsize=(15, 10))\n",
    "\n",
    "dem_utm.bedrock.plot(cmap=cmcrameri.cm.bukavu, ax=ax)\n",
    "ax.set_aspect(1)"
   ]
  },
  {
   "cell_type": "markdown",
   "metadata": {},
   "source": [
    "- climate data: [NOAA gridded datasets](https://psl.noaa.gov/data/gridded/)"
   ]
  },
  {
   "cell_type": "code",
   "execution_count": null,
   "metadata": {},
   "outputs": [],
   "source": [
    "ds_uv = []\n",
    "\n",
    "for field in ['uwnd', 'vwnd']:\n",
    "    base_url = f'http://www.esrl.noaa.gov/psd/thredds/dodsC/Datasets/ncep.reanalysis/surface/{field}.sig995'\n",
    "    files = [f'{base_url}.{year}.nc' for year in range(2018, 2019)]\n",
    "    ds_uv.append(xr.open_mfdataset(files))\n",
    "\n",
    "ncep_wind = xr.merge(ds_uv)\n",
    "\n",
    "ncep_wind"
   ]
  },
  {
   "cell_type": "code",
   "execution_count": null,
   "metadata": {},
   "outputs": [],
   "source": [
    "wind_mean = (\n",
    "    ncep_wind\n",
    "    .sel(lon=slice(min(lon), max(lon)), lat=slice(max(lat), min(lat)))\n",
    "    .mean(\"time\")\n",
    "    .compute()\n",
    ")\n",
    "\n",
    "wind_mean"
   ]
  },
  {
   "cell_type": "code",
   "execution_count": null,
   "metadata": {},
   "outputs": [],
   "source": [
    "m"
   ]
  },
  {
   "cell_type": "code",
   "execution_count": null,
   "metadata": {},
   "outputs": [],
   "source": [
    "from ipyleaflet.velocity import Velocity\n",
    "\n",
    "vel = Velocity(\n",
    "    data=wind_mean,\n",
    "    zonal_speed='uwnd',\n",
    "    meridional_speed='vwnd',\n",
    "    latitude_dimension='lat',\n",
    "    longitude_dimension='lon',\n",
    "    display_options={\n",
    "        'velocityType': 'Global Wind',\n",
    "        'displayPosition': 'bottomleft',\n",
    "        'displayEmptyString': 'No wind data'\n",
    "    }\n",
    ")\n",
    "m.add_layer(vel)"
   ]
  },
  {
   "cell_type": "code",
   "execution_count": null,
   "metadata": {},
   "outputs": [],
   "source": [
    "m.close()"
   ]
  },
  {
   "cell_type": "markdown",
   "metadata": {},
   "source": [
    "- https://pangaea.de/"
   ]
  },
  {
   "cell_type": "code",
   "execution_count": null,
   "metadata": {},
   "outputs": [],
   "source": []
  }
 ],
 "metadata": {
  "kernelspec": {
   "display_name": "Python 3",
   "language": "python",
   "name": "python3"
  },
  "language_info": {
   "codemirror_mode": {
    "name": "ipython",
    "version": 3
   },
   "file_extension": ".py",
   "mimetype": "text/x-python",
   "name": "python",
   "nbconvert_exporter": "python",
   "pygments_lexer": "ipython3",
   "version": "3.8.10"
  }
 },
 "nbformat": 4,
 "nbformat_minor": 4
}
